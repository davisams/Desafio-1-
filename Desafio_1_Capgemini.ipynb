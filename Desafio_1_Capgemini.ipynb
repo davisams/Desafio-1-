{
  "nbformat": 4,
  "nbformat_minor": 0,
  "metadata": {
    "colab": {
      "name": "Desafio 1 Capgemini",
      "provenance": [],
      "include_colab_link": true
    },
    "kernelspec": {
      "name": "python3",
      "display_name": "Python 3"
    },
    "language_info": {
      "name": "python"
    }
  },
  "cells": [
    {
      "cell_type": "markdown",
      "metadata": {
        "id": "view-in-github",
        "colab_type": "text"
      },
      "source": [
        "<a href=\"https://colab.research.google.com/github/davisams/Desafio-1-/blob/main/Desafio_1_Capgemini.ipynb\" target=\"_parent\"><img src=\"https://colab.research.google.com/assets/colab-badge.svg\" alt=\"Open In Colab\"/></a>"
      ]
    },
    {
      "cell_type": "code",
      "metadata": {
        "id": "fqnUm7Lrw2_0"
      },
      "source": [
        "from decimal import Decimal\n",
        "entrada_usuario = float(input('Qual o valor que você quer investir em reais a partir de R$ 1.00real? '))\n",
        "visualizacao_original = entrada_usuario *30\n",
        "visualizacao_gerada = 3*40\n",
        "soma = int(visualizacao_original) + int(visualizacao_gerada)\n",
        "nao_compartilhado = 1\n",
        "compartilhados = 3\n",
        "total = (entrada_usuario) + (visualizacao_original) + (visualizacao_gerada)\n",
        "\n",
        "\n",
        "print('O valor investido é de R$',entrada_usuario,'reais')\n",
        "print('O seu investimento de R$',entrada_usuario,'reais', 'gerou um total de', str (soma), 'visualizações')\n",
        "\n",
        "def total():\n",
        "  print(total)\n",
        "  return total\n",
        "  \n"
      ],
      "execution_count": null,
      "outputs": []
    }
  ]
}